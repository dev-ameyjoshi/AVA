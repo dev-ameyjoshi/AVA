{
 "cells": [
  {
   "cell_type": "code",
   "execution_count": null,
   "metadata": {},
   "outputs": [],
   "source": [
    "import os\n",
    "import shutil\n",
    "\n",
    "def write_count(count):\n",
    "    with open('generate_count.txt', 'w') as f:\n",
    "        f.write(str(count))\n",
    "    f.close()\n",
    "    return\n",
    "\n",
    "\n",
    "def wirte_status(status):\n",
    "    with open('status.txt', 'w') as f:\n",
    "        f.write(str(status))\n",
    "    f.close()\n",
    "    return\n",
    "\n",
    "\n",
    "def read_count():\n",
    "    with open('generate_count.txt', 'r') as f:\n",
    "        count = f.read()\n",
    "    f.close()\n",
    "    return int(count)\n",
    "\n",
    "\n",
    "def read_status():\n",
    "    with open('status.txt', 'r') as f:\n",
    "        status = f.read()\n",
    "    f.close()\n",
    "    return status\n",
    "\n",
    "\n",
    "# generate_count_del = read_count()\n",
    "generate_count_del = 2\n",
    "\n",
    "if generate_count_del == 0:\n",
    "    pass\n",
    "else:\n",
    "    try:\n",
    "        if os.path.exists('./results/'):\n",
    "            shutil.rmtree('./results/', ignore_errors=False, onerror=None)\n",
    "        # delete all the question_*.avi and question_*.wav files\n",
    "        del_list = []\n",
    "        for i in range(1,generate_count_del+1):\n",
    "            if os.path.exists(f'./question_{i}.avi'):\n",
    "                del_list.append(f'./question_{i}.avi')\n",
    "            if os.path.exists(f'./question_{i}.wav'):\n",
    "                del_list.append(f'./question_{i}.wav')\n",
    "\n",
    "        for i in del_list:\n",
    "            os.remove(i)\n",
    "    except:\n",
    "        pass\n",
    "\n",
    "write_count(0)\n",
    "wirte_status(True)\n",
    "\n",
    "# write the GPT_text.txt file to \"\"\n",
    "with open('GPT_text.txt', 'w') as f:\n",
    "    f.write(\"\")\n",
    "f.close()\n",
    "\n",
    "# write the questions.txt file to \"\"\n",
    "with open('questions.txt', 'w') as f:\n",
    "    f.write(\"\")\n",
    "f.close()\n",
    "\n",
    "# write the answers.txt file to \"\"\n",
    "with open('answers.txt', 'w') as f:\n",
    "    f.write(\"\")\n",
    "f.close()\n"
   ]
  }
 ],
 "metadata": {
  "kernelspec": {
   "display_name": "Python 3",
   "language": "python",
   "name": "python3"
  },
  "language_info": {
   "codemirror_mode": {
    "name": "ipython",
    "version": 3
   },
   "file_extension": ".py",
   "mimetype": "text/x-python",
   "name": "python",
   "nbconvert_exporter": "python",
   "pygments_lexer": "ipython3",
   "version": "3.8.10"
  },
  "orig_nbformat": 4,
  "vscode": {
   "interpreter": {
    "hash": "916dbcbb3f70747c44a77c7bcd40155683ae19c65e1c03b4aa3499c5328201f1"
   }
  }
 },
 "nbformat": 4,
 "nbformat_minor": 2
}
